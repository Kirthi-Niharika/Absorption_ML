{
 "cells": [
  {
   "cell_type": "code",
   "execution_count": null,
   "metadata": {},
   "outputs": [
    {
     "name": "stdout",
     "output_type": "stream",
     "text": [
      "       Step     Time          Energy          fmax\n",
      "LBFGS:    0 11:36:51        8.127167        0.113584\n",
      "LBFGS:    1 11:36:51        8.125558        0.106823\n",
      "LBFGS:    2 11:36:51        8.113625        0.004975\n"
     ]
    },
    {
     "name": "stderr",
     "output_type": "stream",
       }
   ],
   "source": [
    "import os\n",
    "\n",
    "import ase.io\n",
    "import numpy as np\n",
    "from ase import Atoms\n",
    "from ase.build import fcc100\n",
    "from ase.calculators.emt import EMT\n",
    "from ase.constraints import FixAtoms\n",
    "from ase.io import extxyz\n",
    "from ase.io.trajectory import Trajectory\n",
    "from ase.optimize import LBFGS\n",
    "\n",
    "# This cell sets up and runs a structural relaxation\n",
    "# of a Cu(100) surface. It uses ASE scripts to make the surface.\n",
    "# The actual surfaces in OC20 were prepared slightly differently.\n",
    "\n",
    "# Make the bare slab using an ASE helper script\n",
    "slab = fcc100(\"Cu\", size=(3, 3, 3))\n",
    "\n",
    "# Tag all slab atoms below surface as 0, surface as 1, adsorbate as 2\n",
    "tags = np.zeros(len(slab))\n",
    "tags[18:27] = 1\n",
    "slab.set_tags(tags)\n",
    "\n",
    "# Fixed atoms are prevented from moving during a structure relaxation.\n",
    "# We fix all slab atoms beneath the surface.\n",
    "cons = FixAtoms(indices=[atom.index for atom in slab if (atom.tag == 0)])\n",
    "slab.set_constraint(cons)\n",
    "slab.center(vacuum=13.0, axis=2)\n",
    "slab.set_pbc(True)\n",
    "\n",
    "# Set the toy calculator (EMT) so ASE knows how to get energies/forces\n",
    "# at each step\n",
    "slab.calc = EMT()\n",
    "\n",
    "os.makedirs(\"data\", exist_ok=True)\n",
    "\n",
    "# Define structure optimizer - LBFGS. Run for 100 steps,\n",
    "# or if the max force on all atoms (fmax) is below 0 ev/A.\n",
    "# fmax is typically set to 0.01-0.05 eV/A,\n",
    "# for this demo however we run for the full 100 steps.\n",
    "\n",
    "dyn = LBFGS(slab, trajectory=\"data/Cu100.traj\")\n",
    "dyn.run(fmax=0.03, steps=100)\n",
    "\n",
    "traj = ase.io.read(\"data/Cu100.traj\", \":\")\n",
    "\n",
    "# convert traj format to extxyz format (used by OC20 dataset)\n",
    "columns = [\"symbols\", \"positions\", \"move_mask\", \"tags\"]\n",
    "with open(\"data/Cu100.extxyz\", \"w\") as f:\n",
    "    extxyz.write_xyz(f, traj, columns=columns)"
   ]
  }
 ],
 "metadata": {
  "language_info": {
   "name": "python"
  }
 },
 "nbformat": 4,
 "nbformat_minor": 2
}
